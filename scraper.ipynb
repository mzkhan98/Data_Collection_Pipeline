{
 "cells": [
  {
   "cell_type": "code",
   "execution_count": 9,
   "metadata": {},
   "outputs": [
    {
     "name": "stdout",
     "output_type": "stream",
     "text": [
      "\n"
     ]
    },
    {
     "name": "stderr",
     "output_type": "stream",
     "text": [
      "[WDM] - ====== WebDriver manager ======\n",
      "[WDM] - Current google-chrome version is 102.0.5005\n",
      "[WDM] - Get LATEST chromedriver version for 102.0.5005 google-chrome\n",
      "[WDM] - Driver [/home/zain/.wdm/drivers/chromedriver/linux64/102.0.5005.61/chromedriver] found in cache\n"
     ]
    },
    {
     "ename": "AttributeError",
     "evalue": "'Scraper' object has no attribute 'contents'",
     "output_type": "error",
     "traceback": [
      "\u001b[0;31m---------------------------------------------------------------------------\u001b[0m",
      "\u001b[0;31mAttributeError\u001b[0m                            Traceback (most recent call last)",
      "\u001b[1;32m/home/zain/Documents/UNI/AI/Data_Collection_Pipeline/scraper.ipynb Cell 1'\u001b[0m in \u001b[0;36m<cell line: 74>\u001b[0;34m()\u001b[0m\n\u001b[1;32m     <a href='vscode-notebook-cell:/home/zain/Documents/UNI/AI/Data_Collection_Pipeline/scraper.ipynb#ch0000000?line=75'>76</a>\u001b[0m bot\u001b[39m.\u001b[39maccecept_cookies()\n\u001b[1;32m     <a href='vscode-notebook-cell:/home/zain/Documents/UNI/AI/Data_Collection_Pipeline/scraper.ipynb#ch0000000?line=76'>77</a>\u001b[0m \u001b[39m#bot.find_container()\u001b[39;00m\n\u001b[0;32m---> <a href='vscode-notebook-cell:/home/zain/Documents/UNI/AI/Data_Collection_Pipeline/scraper.ipynb#ch0000000?line=77'>78</a>\u001b[0m bot\u001b[39m.\u001b[39;49mcontents()\n",
      "\u001b[0;31mAttributeError\u001b[0m: 'Scraper' object has no attribute 'contents'"
     ]
    }
   ],
   "source": [
    "from selenium.webdriver import Chrome\n",
    "from selenium.webdriver.common.keys import Keys\n",
    "from selenium.webdriver.common.by import By\n",
    "from selenium.webdriver.support.ui import WebDriverWait\n",
    "from selenium.webdriver.support import expected_conditions as EC\n",
    "from selenium.common.exceptions import TimeoutException\n",
    "import time\n",
    "\n",
    "\n",
    "from webdriver_manager.chrome import ChromeDriverManager\n",
    "\n",
    "\n",
    "class Scraper: \n",
    "\n",
    "    def __init__(self,url:str = 'https://www.hotukdeals.com/tag/electronics'):\n",
    "        self.driver = Chrome(ChromeDriverManager().install())\n",
    "        self.driver.get(url)\n",
    "    \n",
    "    def accecept_cookies(self,xpath: str = '//*[@id=\"main\"]/div[3]/div[1]/div/div/div/div[2]/div[2]/button[1]/span'):\n",
    "        try:\n",
    "            time.sleep(2)\n",
    "            WebDriverWait(self.driver, 10).until(EC.presence_of_element_located((By.XPATH, xpath)))\n",
    "            self.driver.find_element(By.XPATH, xpath).click()\n",
    "        except TimeoutException:\n",
    "            print('no cookies found')\n",
    "\n",
    "\n",
    "    def find_container(self):\n",
    "        \n",
    "        self.container = self.driver.find_element_by_xpath(By.XPATH)\n",
    "\n",
    "    \n",
    "        pass\n",
    "\n",
    "    \n",
    "'''\n",
    "    def contents(self):\n",
    "        contents = self.driver.find_elements_by_tag_name('article')\n",
    "        last_height = self.driver.execute_script('return document.body.scrollHeight')\n",
    "        while True:\n",
    "            self.driver.execute_script('return document.body.scrollHeight')\n",
    "            time.sleep(5)\n",
    "            new_height = self.driver.execute_script('window.scrollTo(0, document.body.scrollHeight);')\n",
    "            if new_height == last_height:\n",
    "                break\n",
    "            last_height = new_height\n",
    "\n",
    "        \n",
    "        for content in contents:\n",
    "                content.text\n",
    "                print(content.text)\n",
    "\n",
    "        self.driver.execute_script('window.ScrollTo(0, document.body.scrollHeight') \n",
    "        \n",
    "        \n",
    "\n",
    "    #def find_container(self,xpath:str = '//*[@id=\"toc-target-deals\"]/div[1]'):\n",
    "        #container = self.driver.find_elements(By.TAG_NAME, xpath)\n",
    "        #container.find_elements(By. XPATH, './')\n",
    "        #print(container.text)\n",
    "        \n",
    "    \n",
    "'''\n",
    "\n",
    "    #def get_content(self,class_: str = 'thread cept-thread-item thread--type-list thread--deal'):\n",
    "        #content = self.driver.find_elements(By.CLASS_NAME, class_) \n",
    "        #print(content.text)\n",
    "\n",
    "\n",
    "\n",
    "\n",
    "\n",
    "\n",
    "if __name__ == \"__main__\": #onlyrun if running directly\n",
    "    bot = Scraper()\n",
    "    bot.accecept_cookies()\n",
    "    #bot.find_container()\n",
    "    bot.contents()\n",
    "\n"
   ]
  }
 ],
 "metadata": {
  "kernelspec": {
   "display_name": "Python 3.9.13 ('base')",
   "language": "python",
   "name": "python3"
  },
  "language_info": {
   "codemirror_mode": {
    "name": "ipython",
    "version": 3
   },
   "file_extension": ".py",
   "mimetype": "text/x-python",
   "name": "python",
   "nbconvert_exporter": "python",
   "pygments_lexer": "ipython3",
   "version": "3.9.13"
  },
  "orig_nbformat": 4,
  "vscode": {
   "interpreter": {
    "hash": "ba8fa5b7b48e2768b8d0fa4630915d8875b98ef5a8e0f08caed19a5a3bde2031"
   }
  }
 },
 "nbformat": 4,
 "nbformat_minor": 2
}
